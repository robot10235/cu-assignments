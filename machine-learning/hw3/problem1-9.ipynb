{
 "cells": [
  {
   "cell_type": "markdown",
   "id": "4bd17c84",
   "metadata": {},
   "source": [
    "### problem 1.9"
   ]
  },
  {
   "cell_type": "code",
   "execution_count": 1,
   "id": "b446239c",
   "metadata": {},
   "outputs": [],
   "source": [
    "from csv import reader\n",
    "import numpy as np\n",
    "import seaborn as sns\n",
    "import matplotlib.pyplot as plt"
   ]
  },
  {
   "cell_type": "code",
   "execution_count": 2,
   "id": "a37bf468",
   "metadata": {},
   "outputs": [],
   "source": [
    "with open('prostate-train.csv','r') as f:\n",
    "    data = [datum for datum in reader(f, delimiter = \",\")]\n",
    "\n",
    "data_array = np.asarray(data)\n",
    "headers = data_array[0] # first row is headers\n",
    "training_data = np.asarray(data_array[1:], dtype=np.float64)"
   ]
  },
  {
   "cell_type": "code",
   "execution_count": 3,
   "id": "3f57a757",
   "metadata": {},
   "outputs": [],
   "source": [
    "A = training_data[:,:8]\n",
    "const = np.ones(len(A))\n",
    "A = np.insert(A,0,const,axis=1)\n",
    "\n",
    "b = training_data[:,8]\n",
    "w = np.zeros(9)\n",
    "eta = 0.0000025\n",
    "epoch = 1000000"
   ]
  },
  {
   "cell_type": "code",
   "execution_count": 4,
   "id": "4fd82039",
   "metadata": {},
   "outputs": [],
   "source": [
    "sse = []\n",
    "x = [i for i in range(epoch)]"
   ]
  },
  {
   "cell_type": "code",
   "execution_count": 5,
   "id": "8c657b82",
   "metadata": {},
   "outputs": [],
   "source": [
    "for i in range(epoch):\n",
    "    w = w - (np.transpose(A) @ A @ w - np.transpose(A) @ b) * 2 * eta\n",
    "    sse.append(np.linalg.norm(A@w-b) ** 2)"
   ]
  },
  {
   "cell_type": "code",
   "execution_count": 6,
   "id": "fd4d4c2b",
   "metadata": {},
   "outputs": [
    {
     "data": {
      "text/plain": [
       "array([ 0.29332229,  0.57464973,  0.6242766 , -0.0187258 ,  0.14278682,\n",
       "        0.73856301, -0.20647887, -0.01632126,  0.00923619])"
      ]
     },
     "execution_count": 6,
     "metadata": {},
     "output_type": "execute_result"
    }
   ],
   "source": [
    "w"
   ]
  },
  {
   "cell_type": "code",
   "execution_count": 8,
   "id": "ad548deb",
   "metadata": {},
   "outputs": [
    {
     "data": {
      "text/plain": [
       "29.430264028099494"
      ]
     },
     "execution_count": 8,
     "metadata": {},
     "output_type": "execute_result"
    }
   ],
   "source": [
    "sse[-1]"
   ]
  },
  {
   "cell_type": "code",
   "execution_count": 11,
   "id": "713c87a7",
   "metadata": {},
   "outputs": [
    {
     "data": {
      "image/png": "[encoded data removed]",
      "text/plain": [
       "<Figure size 576x432 with 1 Axes>"
      ]
     },
     "metadata": {
      "needs_background": "light"
     },
     "output_type": "display_data"
    }
   ],
   "source": [
    "fig,ax = plt.subplots(1,1,figsize=(8,6))\n",
    "sns.scatterplot(x=x, y=sse);\n",
    "ax.set_xlabel('iteration numbers');\n",
    "ax.set_ylabel('sse');\n",
    "ax.set_title('sse with different iteration numbers');"
   ]
  },
  {
   "cell_type": "code",
   "execution_count": null,
   "id": "341c6771",
   "metadata": {},
   "outputs": [],
   "source": []
  }
 ],
 "metadata": {
  "kernelspec": {
   "display_name": "Python 3 (ipykernel)",
   "language": "python",
   "name": "python3"
  },
  "language_info": {
   "codemirror_mode": {
    "name": "ipython",
    "version": 3
   },
   "file_extension": ".py",
   "mimetype": "text/x-python",
   "name": "python",
   "nbconvert_exporter": "python",
   "pygments_lexer": "ipython3",
   "version": "3.8.11"
  }
 },
 "nbformat": 4,
 "nbformat_minor": 5
}
