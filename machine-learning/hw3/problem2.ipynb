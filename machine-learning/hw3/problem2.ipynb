{
 "cells": [
  {
   "cell_type": "markdown",
   "id": "ec50f7ac",
   "metadata": {},
   "source": [
    "### problem 2.4"
   ]
  },
  {
   "cell_type": "code",
   "execution_count": 1,
   "id": "2ae98342",
   "metadata": {},
   "outputs": [],
   "source": [
    "import torch\n",
    "import numpy as np\n",
    "import pandas as pd\n",
    "import torch.nn as nn"
   ]
  },
  {
   "cell_type": "code",
   "execution_count": 2,
   "id": "a952eaac",
   "metadata": {},
   "outputs": [],
   "source": [
    "training_data = pd.read_csv('iris-train.csv')\n",
    "test_data = pd.read_csv('iris-test.csv')"
   ]
  },
  {
   "cell_type": "code",
   "execution_count": 3,
   "id": "36096eef",
   "metadata": {},
   "outputs": [],
   "source": [
    "training_data['label'] = training_data.apply(lambda x: 1 if x.label == 3 else 0, axis=1)\n",
    "test_data['label'] = test_data.apply(lambda x: 1 if x.label == 3 else 0, axis=1)"
   ]
  },
  {
   "cell_type": "code",
   "execution_count": 4,
   "id": "24150c9a",
   "metadata": {},
   "outputs": [
    {
     "data": {
      "text/html": [
       "<div>\n",
       "<style scoped>\n",
       "    .dataframe tbody tr th:only-of-type {\n",
       "        vertical-align: middle;\n",
       "    }\n",
       "\n",
       "    .dataframe tbody tr th {\n",
       "        vertical-align: top;\n",
       "    }\n",
       "\n",
       "    .dataframe thead th {\n",
       "        text-align: right;\n",
       "    }\n",
       "</style>\n",
       "<table border=\"1\" class=\"dataframe\">\n",
       "  <thead>\n",
       "    <tr style=\"text-align: right;\">\n",
       "      <th></th>\n",
       "      <th>sepal</th>\n",
       "      <th>petal</th>\n",
       "      <th>label</th>\n",
       "    </tr>\n",
       "  </thead>\n",
       "  <tbody>\n",
       "    <tr>\n",
       "      <th>0</th>\n",
       "      <td>0.62963</td>\n",
       "      <td>0.266670</td>\n",
       "      <td>0</td>\n",
       "    </tr>\n",
       "    <tr>\n",
       "      <th>1</th>\n",
       "      <td>0.66667</td>\n",
       "      <td>0.133330</td>\n",
       "      <td>0</td>\n",
       "    </tr>\n",
       "    <tr>\n",
       "      <th>2</th>\n",
       "      <td>0.72549</td>\n",
       "      <td>0.266670</td>\n",
       "      <td>0</td>\n",
       "    </tr>\n",
       "    <tr>\n",
       "      <th>3</th>\n",
       "      <td>0.76364</td>\n",
       "      <td>0.142860</td>\n",
       "      <td>0</td>\n",
       "    </tr>\n",
       "    <tr>\n",
       "      <th>4</th>\n",
       "      <td>0.63265</td>\n",
       "      <td>0.066667</td>\n",
       "      <td>0</td>\n",
       "    </tr>\n",
       "  </tbody>\n",
       "</table>\n",
       "</div>"
      ],
      "text/plain": [
       "     sepal     petal  label\n",
       "0  0.62963  0.266670      0\n",
       "1  0.66667  0.133330      0\n",
       "2  0.72549  0.266670      0\n",
       "3  0.76364  0.142860      0\n",
       "4  0.63265  0.066667      0"
      ]
     },
     "execution_count": 4,
     "metadata": {},
     "output_type": "execute_result"
    }
   ],
   "source": [
    "training_data.head()"
   ]
  },
  {
   "cell_type": "code",
   "execution_count": 5,
   "id": "0c925946",
   "metadata": {},
   "outputs": [],
   "source": [
    "training_label = torch.from_numpy(training_data['label'].to_numpy().reshape(-1, 1)).float()\n",
    "training_feature = torch.from_numpy(training_data[['sepal','petal']].to_numpy()).float()\n",
    "test_label = torch.from_numpy(test_data['label'].to_numpy().reshape(-1, 1)).float()\n",
    "test_feature = torch.from_numpy(test_data[['sepal','petal']].to_numpy()).float()"
   ]
  },
  {
   "cell_type": "code",
   "execution_count": 6,
   "id": "dbba9f10",
   "metadata": {},
   "outputs": [
    {
     "data": {
      "text/plain": [
       "120"
      ]
     },
     "execution_count": 6,
     "metadata": {},
     "output_type": "execute_result"
    }
   ],
   "source": [
    "training_feature.shape[0]"
   ]
  },
  {
   "cell_type": "code",
   "execution_count": 7,
   "id": "f4841963",
   "metadata": {},
   "outputs": [],
   "source": [
    "def gd(params, lr):\n",
    "    for param in params:\n",
    "        param.data -= lr * param.grad"
   ]
  },
  {
   "cell_type": "code",
   "execution_count": 8,
   "id": "0f8b2372",
   "metadata": {},
   "outputs": [],
   "source": [
    "def linear(X, w, b):\n",
    "    return torch.mm(X, w) + b"
   ]
  },
  {
   "cell_type": "code",
   "execution_count": 9,
   "id": "f5794057",
   "metadata": {},
   "outputs": [],
   "source": [
    "def loss(y_pred, y_true, cfp, cfn):\n",
    "    bceloss = nn.BCELoss()\n",
    "    ret = torch.tensor(0, dtype=torch.float32)\n",
    "    for i in range(len(y_pred)):\n",
    "        if y_true[i] == 1:\n",
    "            ret += cfn * bceloss(y_pred[i], y_true[i])\n",
    "        else:\n",
    "            ret += cfp * bceloss(y_pred[i], y_true[i])\n",
    "    return ret"
   ]
  },
  {
   "cell_type": "code",
   "execution_count": 10,
   "id": "95e98bfb",
   "metadata": {},
   "outputs": [],
   "source": [
    "def false(y_pred, y_true):\n",
    "    fp = 0\n",
    "    fn = 0\n",
    "    for i in range(len(y_pred)):\n",
    "        if y_pred[i] > 0.5 and y_true[i] == 0:\n",
    "            fp += 1\n",
    "        elif y_pred[i] <= 0.5 and y_true[i] == 1:\n",
    "            fn += 1\n",
    "    return fp, fn"
   ]
  },
  {
   "cell_type": "code",
   "execution_count": 15,
   "id": "c896c7a3",
   "metadata": {},
   "outputs": [],
   "source": [
    "w = torch.zeros((2, 1), dtype=torch.float32, requires_grad=True)\n",
    "b = torch.zeros((1, 1), dtype=torch.float32, requires_grad=True)\n",
    "iterations = 5000\n",
    "step_size = 0.03\n",
    "cfp = 1.0\n",
    "cfn = 20.0\n",
    "sig = nn.Sigmoid()"
   ]
  },
  {
   "cell_type": "code",
   "execution_count": 16,
   "id": "78b37577",
   "metadata": {},
   "outputs": [
    {
     "name": "stdout",
     "output_type": "stream",
     "text": [
      "number of iteration: 0, R(p): 609.969299\n",
      "number of iteration: 100, R(p): 136.014862\n",
      "number of iteration: 200, R(p): 125.887482\n",
      "number of iteration: 300, R(p): 121.078384\n",
      "number of iteration: 400, R(p): 118.112206\n",
      "number of iteration: 500, R(p): 116.092987\n",
      "number of iteration: 600, R(p): 114.641602\n",
      "number of iteration: 700, R(p): 113.559692\n",
      "number of iteration: 800, R(p): 112.731285\n",
      "number of iteration: 900, R(p): 112.083488\n",
      "number of iteration: 1000, R(p): 111.568268\n",
      "number of iteration: 1100, R(p): 111.152695\n",
      "number of iteration: 1200, R(p): 110.813637\n",
      "number of iteration: 1300, R(p): 110.534164\n",
      "number of iteration: 1400, R(p): 110.301872\n",
      "number of iteration: 1500, R(p): 110.107323\n",
      "number of iteration: 1600, R(p): 109.943443\n",
      "number of iteration: 1700, R(p): 109.804497\n",
      "number of iteration: 1800, R(p): 109.686249\n",
      "number of iteration: 1900, R(p): 109.585068\n",
      "number of iteration: 2000, R(p): 109.498199\n",
      "number of iteration: 2100, R(p): 109.423340\n",
      "number of iteration: 2200, R(p): 109.358696\n",
      "number of iteration: 2300, R(p): 109.302605\n",
      "number of iteration: 2400, R(p): 109.253937\n",
      "number of iteration: 2500, R(p): 109.211456\n",
      "number of iteration: 2600, R(p): 109.174454\n",
      "number of iteration: 2700, R(p): 109.142067\n",
      "number of iteration: 2800, R(p): 109.113724\n",
      "number of iteration: 2900, R(p): 109.088829\n",
      "number of iteration: 3000, R(p): 109.066971\n",
      "number of iteration: 3100, R(p): 109.047707\n",
      "number of iteration: 3200, R(p): 109.030792\n",
      "number of iteration: 3300, R(p): 109.015816\n",
      "number of iteration: 3400, R(p): 109.002686\n",
      "number of iteration: 3500, R(p): 108.990997\n",
      "number of iteration: 3600, R(p): 108.980713\n",
      "number of iteration: 3700, R(p): 108.971558\n",
      "number of iteration: 3800, R(p): 108.963402\n",
      "number of iteration: 3900, R(p): 108.956276\n",
      "number of iteration: 4000, R(p): 108.949928\n",
      "number of iteration: 4100, R(p): 108.944237\n",
      "number of iteration: 4200, R(p): 108.939255\n",
      "number of iteration: 4300, R(p): 108.934723\n",
      "number of iteration: 4400, R(p): 108.930717\n",
      "number of iteration: 4500, R(p): 108.927223\n",
      "number of iteration: 4600, R(p): 108.924080\n",
      "number of iteration: 4700, R(p): 108.921227\n",
      "number of iteration: 4800, R(p): 108.918739\n",
      "number of iteration: 4900, R(p): 108.916496\n",
      "number of iteration: 5000, R(p): 108.914566\n"
     ]
    }
   ],
   "source": [
    "X = training_feature\n",
    "y = training_label\n",
    "train_l = []\n",
    "train_l.append(loss(sig(linear(X, w, b)), y, cfp, cfn).item())\n",
    "print('number of iteration: %d, R(p): %f' % (0, train_l[-1]))\n",
    "for it in range(iterations):\n",
    "    l = loss(sig(linear(X, w, b)), y, cfp, cfn)\n",
    "    l.backward()\n",
    "    gd([w, b], step_size)\n",
    "    w.grad.data.zero_()\n",
    "    b.grad.data.zero_()\n",
    "    if (it+1) % 100 == 0:\n",
    "        train_l.append(loss(sig(linear(X, w, b)), y, cfp, cfn).item())\n",
    "        print('number of iteration: %d, R(p): %f' % (it + 1, train_l[-1]))"
   ]
  },
  {
   "cell_type": "code",
   "execution_count": 17,
   "id": "2b955a27",
   "metadata": {},
   "outputs": [
    {
     "name": "stdout",
     "output_type": "stream",
     "text": [
      "false positive: 34, false negative: 0\n"
     ]
    }
   ],
   "source": [
    "print(f'false positive: %d, false negative: %d' % false(sig(linear(X, w, b)), y))"
   ]
  },
  {
   "cell_type": "markdown",
   "id": "98a14852",
   "metadata": {},
   "source": [
    "### problem 2.5"
   ]
  },
  {
   "cell_type": "code",
   "execution_count": 18,
   "id": "90c4f966",
   "metadata": {},
   "outputs": [
    {
     "name": "stdout",
     "output_type": "stream",
     "text": [
      "[0.0, 0.0, 0.0, 0.0, 0.0, 0.2, 0.0, 0.0, 0.2727272727272727, 0.7346938775510204]\n"
     ]
    }
   ],
   "source": [
    "subinterval = [0 for k in range(10)]\n",
    "sumsubinterval = [0 for k in range(10)]\n",
    "for i in range(training_feature.shape[0]):\n",
    "    prob = sig(linear(training_feature[i].reshape(1,-1), w, b))\n",
    "    for j in range(10):\n",
    "        if prob.item() < 0.1*(j+1):\n",
    "            if training_label[i] == 1:\n",
    "                subinterval[j] += 1\n",
    "            sumsubinterval[j] += 1\n",
    "            break\n",
    "for i in range(10):\n",
    "    if sumsubinterval[i] > 0:\n",
    "        subinterval[i] /= sumsubinterval[i]\n",
    "print(subinterval)"
   ]
  },
  {
   "cell_type": "code",
   "execution_count": null,
   "id": "a99993a8",
   "metadata": {},
   "outputs": [],
   "source": []
  }
 ],
 "metadata": {
  "kernelspec": {
   "display_name": "Python 3 (ipykernel)",
   "language": "python",
   "name": "python3"
  },
  "language_info": {
   "codemirror_mode": {
    "name": "ipython",
    "version": 3
   },
   "file_extension": ".py",
   "mimetype": "text/x-python",
   "name": "python",
   "nbconvert_exporter": "python",
   "pygments_lexer": "ipython3",
   "version": "3.8.11"
  }
 },
 "nbformat": 4,
 "nbformat_minor": 5
}
