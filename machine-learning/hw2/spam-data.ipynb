{
 "cells": [
  {
   "cell_type": "markdown",
   "id": "b2309326",
   "metadata": {},
   "source": [
    "# spambase"
   ]
  },
  {
   "cell_type": "code",
   "execution_count": 1,
   "id": "29bd9b68",
   "metadata": {},
   "outputs": [],
   "source": [
    "import pickle\n",
    "with open('spam.pickle', 'rb') as f:\n",
    "    spam = pickle.load(f)"
   ]
  },
  {
   "cell_type": "code",
   "execution_count": 2,
   "id": "047a568f",
   "metadata": {},
   "outputs": [
    {
     "data": {
      "text/plain": [
       "(3601, 57)"
      ]
     },
     "execution_count": 2,
     "metadata": {},
     "output_type": "execute_result"
    }
   ],
   "source": [
    "spam['train_data'].shape"
   ]
  },
  {
   "cell_type": "code",
   "execution_count": 3,
   "id": "285a5198",
   "metadata": {},
   "outputs": [
    {
     "data": {
      "text/plain": [
       "(3601,)"
      ]
     },
     "execution_count": 3,
     "metadata": {},
     "output_type": "execute_result"
    }
   ],
   "source": [
    "spam['train_labels'].shape"
   ]
  },
  {
   "cell_type": "code",
   "execution_count": 4,
   "id": "a88f84cd",
   "metadata": {},
   "outputs": [
    {
     "data": {
      "text/plain": [
       "(1000, 57)"
      ]
     },
     "execution_count": 4,
     "metadata": {},
     "output_type": "execute_result"
    }
   ],
   "source": [
    "spam['test_data'].shape"
   ]
  },
  {
   "cell_type": "code",
   "execution_count": 5,
   "id": "f5d3f49b",
   "metadata": {},
   "outputs": [
    {
     "data": {
      "text/plain": [
       "(1000,)"
      ]
     },
     "execution_count": 5,
     "metadata": {},
     "output_type": "execute_result"
    }
   ],
   "source": [
    "spam['test_labels'].shape"
   ]
  },
  {
   "cell_type": "code",
   "execution_count": 6,
   "id": "5166e2de",
   "metadata": {},
   "outputs": [
    {
     "data": {
      "text/plain": [
       "['word_freq_make',\n",
       " 'word_freq_address',\n",
       " 'word_freq_all',\n",
       " 'word_freq_3d',\n",
       " 'word_freq_our',\n",
       " 'word_freq_over',\n",
       " 'word_freq_remove',\n",
       " 'word_freq_internet',\n",
       " 'word_freq_order',\n",
       " 'word_freq_mail',\n",
       " 'word_freq_receive',\n",
       " 'word_freq_will',\n",
       " 'word_freq_people',\n",
       " 'word_freq_report',\n",
       " 'word_freq_addresses',\n",
       " 'word_freq_free',\n",
       " 'word_freq_business',\n",
       " 'word_freq_email',\n",
       " 'word_freq_you',\n",
       " 'word_freq_credit',\n",
       " 'word_freq_your',\n",
       " 'word_freq_font',\n",
       " 'word_freq_000',\n",
       " 'word_freq_money',\n",
       " 'word_freq_hp',\n",
       " 'word_freq_hpl',\n",
       " 'word_freq_george',\n",
       " 'word_freq_650',\n",
       " 'word_freq_lab',\n",
       " 'word_freq_labs',\n",
       " 'word_freq_telnet',\n",
       " 'word_freq_857',\n",
       " 'word_freq_data',\n",
       " 'word_freq_415',\n",
       " 'word_freq_85',\n",
       " 'word_freq_technology',\n",
       " 'word_freq_1999',\n",
       " 'word_freq_parts',\n",
       " 'word_freq_pm',\n",
       " 'word_freq_direct',\n",
       " 'word_freq_cs',\n",
       " 'word_freq_meeting',\n",
       " 'word_freq_original',\n",
       " 'word_freq_project',\n",
       " 'word_freq_re',\n",
       " 'word_freq_edu',\n",
       " 'word_freq_table',\n",
       " 'word_freq_conference',\n",
       " 'char_freq_;',\n",
       " 'char_freq_(',\n",
       " 'char_freq_[',\n",
       " 'char_freq_!',\n",
       " 'char_freq_$',\n",
       " 'char_freq_#',\n",
       " 'capital_run_length_average',\n",
       " 'capital_run_length_longest',\n",
       " 'capital_run_length_total']"
      ]
     },
     "execution_count": 6,
     "metadata": {},
     "output_type": "execute_result"
    }
   ],
   "source": [
    "spam['feature_names']"
   ]
  },
  {
   "cell_type": "code",
   "execution_count": 7,
   "id": "da78590d",
   "metadata": {},
   "outputs": [
    {
     "data": {
      "text/plain": [
       "['not spam', 'spam']"
      ]
     },
     "execution_count": 7,
     "metadata": {},
     "output_type": "execute_result"
    }
   ],
   "source": [
    "spam['class_names']"
   ]
  },
  {
   "cell_type": "markdown",
   "id": "3deefe18",
   "metadata": {},
   "source": [
    "### import necessary packages"
   ]
  },
  {
   "cell_type": "code",
   "execution_count": 8,
   "id": "0191acc2",
   "metadata": {},
   "outputs": [],
   "source": [
    "from sklearn.tree import DecisionTreeClassifier\n",
    "from sklearn.ensemble import BaggingClassifier\n",
    "import matplotlib.pyplot as plt\n",
    "import seaborn as sns\n",
    "import numpy as np"
   ]
  },
  {
   "cell_type": "markdown",
   "id": "8fabe1d9",
   "metadata": {},
   "source": [
    "## problem 3.4"
   ]
  },
  {
   "cell_type": "code",
   "execution_count": 9,
   "id": "437c80fe",
   "metadata": {},
   "outputs": [
    {
     "name": "stdout",
     "output_type": "stream",
     "text": [
      "0.00028\n",
      "0.904\n"
     ]
    }
   ],
   "source": [
    "DTC = DecisionTreeClassifier(random_state=42)\n",
    "DTC.fit(X=spam['train_data'], y=spam['train_labels'])\n",
    "print(round(1-DTC.score(X=spam['train_data'], y=spam['train_labels']),5))\n",
    "print(DTC.score(X=spam['test_data'], y=spam['test_labels']))"
   ]
  },
  {
   "cell_type": "code",
   "execution_count": 10,
   "id": "0e4bf94a",
   "metadata": {},
   "outputs": [
    {
     "name": "stdout",
     "output_type": "stream",
     "text": [
      "Performance on training data\n",
      "              precision    recall  f1-score   support\n",
      "\n",
      "    not spam       1.00      1.00      1.00      2186\n",
      "        spam       1.00      1.00      1.00      1415\n",
      "\n",
      "    accuracy                           1.00      3601\n",
      "   macro avg       1.00      1.00      1.00      3601\n",
      "weighted avg       1.00      1.00      1.00      3601\n",
      "\n",
      "Performance on test data\n",
      "              precision    recall  f1-score   support\n",
      "\n",
      "    not spam       0.94      0.90      0.92       602\n",
      "        spam       0.85      0.91      0.88       398\n",
      "\n",
      "    accuracy                           0.90      1000\n",
      "   macro avg       0.90      0.91      0.90      1000\n",
      "weighted avg       0.91      0.90      0.90      1000\n",
      "\n"
     ]
    }
   ],
   "source": [
    "from sklearn.metrics import classification_report\n",
    "print('Performance on training data')\n",
    "print(classification_report(spam['train_labels'],\n",
    "    DTC.predict(spam['train_data']),\n",
    "    target_names=spam['class_names']))\n",
    "\n",
    "print('Performance on test data')\n",
    "\n",
    "print(classification_report(spam['test_labels'],\n",
    "    DTC.predict(spam['test_data']),\n",
    "    target_names=spam['class_names']))"
   ]
  },
  {
   "cell_type": "code",
   "execution_count": 11,
   "id": "379059c8",
   "metadata": {},
   "outputs": [
    {
     "name": "stdout",
     "output_type": "stream",
     "text": [
      "0.00417\n",
      "0.065\n"
     ]
    }
   ],
   "source": [
    "dtc = DecisionTreeClassifier(random_state=42)\n",
    "BC = BaggingClassifier(base_estimator=dtc,\n",
    "                       n_estimators=10,\n",
    "                       random_state=42)\n",
    "BC.fit(X=spam['train_data'], y=spam['train_labels'])\n",
    "print(round(1-BC.score(X=spam['train_data'], y=spam['train_labels']),5))\n",
    "print(round(1-BC.score(X=spam['test_data'], y=spam['test_labels']),5))"
   ]
  },
  {
   "cell_type": "code",
   "execution_count": 12,
   "id": "eb3c1839",
   "metadata": {},
   "outputs": [
    {
     "name": "stdout",
     "output_type": "stream",
     "text": [
      "Performance on training data\n",
      "              precision    recall  f1-score   support\n",
      "\n",
      "    not spam       0.99      1.00      1.00      2186\n",
      "        spam       1.00      0.99      0.99      1415\n",
      "\n",
      "    accuracy                           1.00      3601\n",
      "   macro avg       1.00      0.99      1.00      3601\n",
      "weighted avg       1.00      1.00      1.00      3601\n",
      "\n",
      "Performance on test data\n",
      "              precision    recall  f1-score   support\n",
      "\n",
      "    not spam       0.96      0.93      0.95       602\n",
      "        spam       0.90      0.94      0.92       398\n",
      "\n",
      "    accuracy                           0.94      1000\n",
      "   macro avg       0.93      0.94      0.93      1000\n",
      "weighted avg       0.94      0.94      0.94      1000\n",
      "\n"
     ]
    }
   ],
   "source": [
    "from sklearn.metrics import classification_report\n",
    "print('Performance on training data')\n",
    "print(classification_report(spam['train_labels'],\n",
    "    BC.predict(spam['train_data']),\n",
    "    target_names=spam['class_names']))\n",
    "\n",
    "print('Performance on test data')\n",
    "\n",
    "print(classification_report(spam['test_labels'],\n",
    "    BC.predict(spam['test_data']),\n",
    "    target_names=spam['class_names']))"
   ]
  },
  {
   "cell_type": "markdown",
   "id": "b9ea2b1b",
   "metadata": {},
   "source": [
    "## problem 3.5"
   ]
  },
  {
   "cell_type": "code",
   "execution_count": 13,
   "id": "72dded09",
   "metadata": {},
   "outputs": [],
   "source": [
    "params = [2, 4, 8, 16, 32, 64, 128, 256]\n",
    "test_error_rate = []\n",
    "for param in params:\n",
    "    BC = BaggingClassifier(n_estimators=param, random_state=42)\n",
    "    BC.fit(X=spam['train_data'], y=spam['train_labels'])\n",
    "    test_error_rate.append(1-BC.score(X=spam['test_data'], y=spam['test_labels']))"
   ]
  },
  {
   "cell_type": "code",
   "execution_count": 14,
   "id": "e6a1d122",
   "metadata": {},
   "outputs": [
    {
     "data": {
      "image/png": "[encoded data removed]",
      "text/plain": [
       "<Figure size 576x432 with 1 Axes>"
      ]
     },
     "metadata": {
      "needs_background": "light"
     },
     "output_type": "display_data"
    }
   ],
   "source": [
    "fig,ax = plt.subplots(1,1,figsize=(8,6))\n",
    "ax.plot(params, test_error_rate);\n",
    "ax.set_xlabel('n_estimators')\n",
    "ax.set_ylabel('test error rate')\n",
    "ax.set_title('Different n_estimators with Test Error Rate');"
   ]
  },
  {
   "cell_type": "code",
   "execution_count": null,
   "id": "80701231",
   "metadata": {},
   "outputs": [],
   "source": []
  }
 ],
 "metadata": {
  "kernelspec": {
   "display_name": "Python 3 (ipykernel)",
   "language": "python",
   "name": "python3"
  },
  "language_info": {
   "codemirror_mode": {
    "name": "ipython",
    "version": 3
   },
   "file_extension": ".py",
   "mimetype": "text/x-python",
   "name": "python",
   "nbconvert_exporter": "python",
   "pygments_lexer": "ipython3",
   "version": "3.8.11"
  }
 },
 "nbformat": 4,
 "nbformat_minor": 5
}
