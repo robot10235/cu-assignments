{
 "cells": [
  {
   "cell_type": "code",
   "execution_count": 1,
   "id": "1a4306b8",
   "metadata": {},
   "outputs": [],
   "source": [
    "from pyspark.sql.types import StringType, ArrayType\n",
    "from pyspark.sql.functions import udf, col\n",
    "import regex\n",
    "from pyspark.sql import SparkSession\n",
    "import os\n",
    "from pyspark.sql.functions import explode, lower\n",
    "import sys\n",
    "os.environ['PYSPARK_SUBMIT_ARGS'] = '--packages com.databricks:spark-xml_2.12:0.14.0 pyspark-shell'\n",
    "#load_file = 'hdfs:/enwiki_test.xml'\n",
    "spark = SparkSession.builder.getOrCreate()\n",
    "#df = spark.read.format('xml').options(rowTag='page').load('hdfs:/enwiki_small.xml')"
   ]
  },
  {
   "cell_type": "code",
   "execution_count": 2,
   "id": "81ee3534",
   "metadata": {},
   "outputs": [
    {
     "name": "stderr",
     "output_type": "stream",
     "text": [
      "                                                                                \r"
     ]
    }
   ],
   "source": [
    "df = spark.read.csv(\"gs://programming2/p1t2.csv/part-00000-e0927552-f076-4ae6-9b5e-257fb91964bc-c000.csv\",sep='\\t')"
   ]
  },
  {
   "cell_type": "code",
   "execution_count": 3,
   "id": "720f820b",
   "metadata": {},
   "outputs": [
    {
     "name": "stdout",
     "output_type": "stream",
     "text": [
      "+----------------+--------------------+\n",
      "|           title|                link|\n",
      "+----------------+--------------------+\n",
      "|\"love and theft\"|mississippi (bob ...|\n",
      "|\"love and theft\"|                2001|\n",
      "|\"love and theft\"|accidents & accus...|\n",
      "|\"love and theft\"|           accordion|\n",
      "|\"love and theft\"|            allmusic|\n",
      "|\"love and theft\"|   americana (music)|\n",
      "|\"love and theft\"|anthology of amer...|\n",
      "|\"love and theft\"|        augie meyers|\n",
      "|\"love and theft\"|        augie meyers|\n",
      "|\"love and theft\"|               banjo|\n",
      "|\"love and theft\"|         bass guitar|\n",
      "|\"love and theft\"|       billboard 200|\n",
      "|\"love and theft\"|       billboard 200|\n",
      "|\"love and theft\"|  blender (magazine)|\n",
      "|\"love and theft\"|               blues|\n",
      "|\"love and theft\"|           bob dylan|\n",
      "|\"love and theft\"|           bob dylan|\n",
      "|\"love and theft\"|           bob dylan|\n",
      "|\"love and theft\"|           bob dylan|\n",
      "|\"love and theft\"|           bob dylan|\n",
      "+----------------+--------------------+\n",
      "only showing top 20 rows\n",
      "\n"
     ]
    }
   ],
   "source": [
    "df = df.withColumnRenamed(\"_c0\", \"title\")\n",
    "df = df.withColumnRenamed(\"_c1\", \"link\")\n",
    "df = df.na.drop()"
   ]
  },
  {
   "cell_type": "code",
   "execution_count": 8,
   "id": "2fc0d7e1",
   "metadata": {},
   "outputs": [
    {
     "name": "stderr",
     "output_type": "stream",
     "text": [
      "                                                                                \r"
     ]
    }
   ],
   "source": [
    "import pyspark.sql.functions as f\n",
    "from pyspark.sql.window import Window\n",
    "\n",
    "df_new = df.withColumn(\"rank\", f.lit(1))\n",
    "\n",
    "for _ in range(10):\n",
    "    df_new = df_new.na.drop()\n",
    "    df_temp = df_new.withColumn('contribution',f.col('rank')/f.count('title').over(Window.partitionBy('title')))\n",
    "    df_temp = df_temp.groupBy(\"link\").agg(f.sum(\"contribution\").alias('contribution'))\n",
    "    df_temp = df_temp.withColumn('rank', 0.85 * f.col('contribution') + 0.15)\n",
    "    df_temp = df_temp.withColumnRenamed(\"link\", \"title\")\n",
    "    df_temp = df_temp.select([\"title\", \"rank\"])\n",
    "    df_new = df.select([\"title\",\"link\"])\n",
    "    df_new = df_new.join(df_temp, on=\"title\", how=\"left\")\n",
    "    df_new = df_new.na.fill(0)\n",
    "    ret = df_temp.sort([\"title\",\"rank\"])\n",
    "    \n",
    "gcs_bucket = 'programming2' \n",
    "file_path = 'gs://{}/p1t3.csv'.format(gcs_bucket)\n",
    "ret.write.option(\"delimiter\", \"\\t\").csv(path=file_path)"
   ]
  },
  {
   "cell_type": "code",
   "execution_count": null,
   "id": "3b783b27",
   "metadata": {},
   "outputs": [],
   "source": []
  }
 ],
 "metadata": {
  "kernelspec": {
   "display_name": "Python 3 (ipykernel)",
   "language": "python",
   "name": "python3"
  },
  "language_info": {
   "codemirror_mode": {
    "name": "ipython",
    "version": 3
   },
   "file_extension": ".py",
   "mimetype": "text/x-python",
   "name": "python",
   "nbconvert_exporter": "python",
   "pygments_lexer": "ipython3",
   "version": "3.8.11"
  }
 },
 "nbformat": 4,
 "nbformat_minor": 5
}
